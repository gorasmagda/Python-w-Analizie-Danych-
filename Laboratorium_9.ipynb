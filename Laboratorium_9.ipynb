{
 "cells": [
  {
   "cell_type": "markdown",
   "source": [
    "# Python w analizie danych - scrapy"
   ],
   "metadata": {
    "collapsed": false
   }
  },
  {
   "cell_type": "markdown",
   "source": [
    "### Zadanie 1\n",
    "A. Pobierz za pomocą scrapy cytaty ze strony [http://quotes.toscrape.com/](http://quotes.toscrape.com/) i zapisz je w formacie .json."
   ],
   "metadata": {
    "collapsed": false
   }
  },
  {
   "cell_type": "code",
   "execution_count": 8,
   "outputs": [
    {
     "ename": "ModuleNotFoundError",
     "evalue": "No module named 'TextResponse'",
     "output_type": "error",
     "traceback": [
      "\u001B[0;31m---------------------------------------------------------------------------\u001B[0m",
      "\u001B[0;31mModuleNotFoundError\u001B[0m                       Traceback (most recent call last)",
      "\u001B[0;32m/var/folders/3f/8zmvqw292tn3xqty7hzkgv340000gn/T/ipykernel_62704/1976871070.py\u001B[0m in \u001B[0;36m<module>\u001B[0;34m\u001B[0m\n\u001B[1;32m      5\u001B[0m \u001B[0;32mimport\u001B[0m \u001B[0mlogging\u001B[0m\u001B[0;34m\u001B[0m\u001B[0;34m\u001B[0m\u001B[0m\n\u001B[1;32m      6\u001B[0m \u001B[0;32mimport\u001B[0m \u001B[0mjson\u001B[0m\u001B[0;34m\u001B[0m\u001B[0;34m\u001B[0m\u001B[0m\n\u001B[0;32m----> 7\u001B[0;31m \u001B[0;32mimport\u001B[0m \u001B[0mTextResponse\u001B[0m\u001B[0;34m\u001B[0m\u001B[0;34m\u001B[0m\u001B[0m\n\u001B[0m\u001B[1;32m      8\u001B[0m \u001B[0;34m\u001B[0m\u001B[0m\n\u001B[1;32m      9\u001B[0m \u001B[0;32mclass\u001B[0m \u001B[0mExtractFirst\u001B[0m\u001B[0;34m(\u001B[0m\u001B[0mobject\u001B[0m\u001B[0;34m)\u001B[0m\u001B[0;34m:\u001B[0m\u001B[0;34m\u001B[0m\u001B[0;34m\u001B[0m\u001B[0m\n",
      "\u001B[0;31mModuleNotFoundError\u001B[0m: No module named 'TextResponse'"
     ]
    }
   ],
   "source": [
    "import scrapy\n",
    "from scrapy.crawler import CrawlerProcess\n",
    "\n",
    "import requests\n",
    "import logging\n",
    "import json\n",
    "\n",
    "class ExtractFirst(object):\n",
    "    def process_item(self, item, spider):\n",
    "        lines = dict(item)[\"quote\"].splitlines()\n",
    "        first_line = self.__remove_html_tags__(lines[0])\n",
    "        return {'quote': first_line}\n",
    "\n",
    "    def __remove_html_tags__(self, text):\n",
    "        html_tags = re.compile('<.*?>')\n",
    "        return re.sub(html_tags, '', text)\n",
    "\n",
    "class MySpider(scrapy.Spider):\n",
    "    name=\"quotes\"\n",
    "\n",
    "    start_urls=[\n",
    "        \"https://quotes.toscrape.com/\",\n",
    "    ]\n",
    "\n",
    "    custom_settings = {\n",
    "        'LOG_LEVEL': logging.WARNING,\n",
    "        'ITEM_PIPELINES': {'__main__.ExtractFirstLine': 1},\n",
    "        'FEED_FORMAT':'json',\n",
    "        'FEED_URI': 'quotes.json'\n",
    "    }\n",
    "\n",
    "    def parse(self, response):\n",
    "        for quote in response.css('div.quote>span.text'):\n",
    "            yield {'quote': quote.extract()}\n",
    "\n",
    "\n",
    "    def __remove_html_tags__(self, text):\n",
    "        html_tags = re.compile('<.*?>')\n",
    "        return re.sub(html_tags, '', text)\n",
    "\n",
    "\n",
    "process = CrawlerProcess()\n",
    "process.crawl(MySpider)\n",
    "process.start()"
   ],
   "metadata": {
    "collapsed": false
   }
  },
  {
   "cell_type": "code",
   "execution_count": 4,
   "outputs": [
    {
     "name": "stderr",
     "output_type": "stream",
     "text": [
      "Unhandled error in Deferred:\n",
      "2022-12-12 11:15:34 [twisted] CRITICAL: Unhandled error in Deferred:\n",
      "2022-12-12 11:15:34 [twisted] CRITICAL: Unhandled error in Deferred:\n",
      "\n",
      "Traceback (most recent call last):\n",
      "  File \"/opt/anaconda3/lib/python3.9/site-packages/scrapy/crawler.py\", line 205, in crawl\n",
      "    return self._crawl(crawler, *args, **kwargs)\n",
      "  File \"/opt/anaconda3/lib/python3.9/site-packages/scrapy/crawler.py\", line 209, in _crawl\n",
      "    d = crawler.crawl(*args, **kwargs)\n",
      "  File \"/opt/anaconda3/lib/python3.9/site-packages/twisted/internet/defer.py\", line 1905, in unwindGenerator\n",
      "    return _cancellableInlineCallbacks(gen)\n",
      "  File \"/opt/anaconda3/lib/python3.9/site-packages/twisted/internet/defer.py\", line 1815, in _cancellableInlineCallbacks\n",
      "    _inlineCallbacks(None, gen, status)\n",
      "--- <exception caught here> ---\n",
      "  File \"/opt/anaconda3/lib/python3.9/site-packages/twisted/internet/defer.py\", line 1660, in _inlineCallbacks\n",
      "    result = current_context.run(gen.send, result)\n",
      "  File \"/opt/anaconda3/lib/python3.9/site-packages/scrapy/crawler.py\", line 101, in crawl\n",
      "    self.engine = self._create_engine()\n",
      "  File \"/opt/anaconda3/lib/python3.9/site-packages/scrapy/crawler.py\", line 115, in _create_engine\n",
      "    return ExecutionEngine(self, lambda _: self.stop())\n",
      "  File \"/opt/anaconda3/lib/python3.9/site-packages/scrapy/core/engine.py\", line 84, in __init__\n",
      "    self.scraper = Scraper(crawler)\n",
      "  File \"/opt/anaconda3/lib/python3.9/site-packages/scrapy/core/scraper.py\", line 75, in __init__\n",
      "    self.itemproc = itemproc_cls.from_crawler(crawler)\n",
      "  File \"/opt/anaconda3/lib/python3.9/site-packages/scrapy/middleware.py\", line 59, in from_crawler\n",
      "    return cls.from_settings(crawler.settings, crawler)\n",
      "  File \"/opt/anaconda3/lib/python3.9/site-packages/scrapy/middleware.py\", line 40, in from_settings\n",
      "    mwcls = load_object(clspath)\n",
      "  File \"/opt/anaconda3/lib/python3.9/site-packages/scrapy/utils/misc.py\", line 66, in load_object\n",
      "    raise NameError(f\"Module '{module}' doesn't define any object named '{name}'\")\n",
      "builtins.NameError: Module '__main__' doesn't define any object named 'ExtractFirstLine'\n",
      "\n",
      "2022-12-12 11:15:34 [twisted] CRITICAL: \n",
      "Traceback (most recent call last):\n",
      "  File \"/opt/anaconda3/lib/python3.9/site-packages/scrapy/utils/misc.py\", line 64, in load_object\n",
      "    obj = getattr(mod, name)\n",
      "AttributeError: module '__main__' has no attribute 'ExtractFirstLine'\n",
      "\n",
      "During handling of the above exception, another exception occurred:\n",
      "\n",
      "Traceback (most recent call last):\n",
      "  File \"/opt/anaconda3/lib/python3.9/site-packages/twisted/internet/defer.py\", line 1660, in _inlineCallbacks\n",
      "    result = current_context.run(gen.send, result)\n",
      "  File \"/opt/anaconda3/lib/python3.9/site-packages/scrapy/crawler.py\", line 101, in crawl\n",
      "    self.engine = self._create_engine()\n",
      "  File \"/opt/anaconda3/lib/python3.9/site-packages/scrapy/crawler.py\", line 115, in _create_engine\n",
      "    return ExecutionEngine(self, lambda _: self.stop())\n",
      "  File \"/opt/anaconda3/lib/python3.9/site-packages/scrapy/core/engine.py\", line 84, in __init__\n",
      "    self.scraper = Scraper(crawler)\n",
      "  File \"/opt/anaconda3/lib/python3.9/site-packages/scrapy/core/scraper.py\", line 75, in __init__\n",
      "    self.itemproc = itemproc_cls.from_crawler(crawler)\n",
      "  File \"/opt/anaconda3/lib/python3.9/site-packages/scrapy/middleware.py\", line 59, in from_crawler\n",
      "    return cls.from_settings(crawler.settings, crawler)\n",
      "  File \"/opt/anaconda3/lib/python3.9/site-packages/scrapy/middleware.py\", line 40, in from_settings\n",
      "    mwcls = load_object(clspath)\n",
      "  File \"/opt/anaconda3/lib/python3.9/site-packages/scrapy/utils/misc.py\", line 66, in load_object\n",
      "    raise NameError(f\"Module '{module}' doesn't define any object named '{name}'\")\n",
      "NameError: Module '__main__' doesn't define any object named 'ExtractFirstLine'\n",
      "2022-12-12 11:15:34 [twisted] CRITICAL: \n",
      "Traceback (most recent call last):\n",
      "  File \"/opt/anaconda3/lib/python3.9/site-packages/scrapy/utils/misc.py\", line 64, in load_object\n",
      "    obj = getattr(mod, name)\n",
      "AttributeError: module '__main__' has no attribute 'ExtractFirstLine'\n",
      "\n",
      "During handling of the above exception, another exception occurred:\n",
      "\n",
      "Traceback (most recent call last):\n",
      "  File \"/opt/anaconda3/lib/python3.9/site-packages/twisted/internet/defer.py\", line 1660, in _inlineCallbacks\n",
      "    result = current_context.run(gen.send, result)\n",
      "  File \"/opt/anaconda3/lib/python3.9/site-packages/scrapy/crawler.py\", line 101, in crawl\n",
      "    self.engine = self._create_engine()\n",
      "  File \"/opt/anaconda3/lib/python3.9/site-packages/scrapy/crawler.py\", line 115, in _create_engine\n",
      "    return ExecutionEngine(self, lambda _: self.stop())\n",
      "  File \"/opt/anaconda3/lib/python3.9/site-packages/scrapy/core/engine.py\", line 84, in __init__\n",
      "    self.scraper = Scraper(crawler)\n",
      "  File \"/opt/anaconda3/lib/python3.9/site-packages/scrapy/core/scraper.py\", line 75, in __init__\n",
      "    self.itemproc = itemproc_cls.from_crawler(crawler)\n",
      "  File \"/opt/anaconda3/lib/python3.9/site-packages/scrapy/middleware.py\", line 59, in from_crawler\n",
      "    return cls.from_settings(crawler.settings, crawler)\n",
      "  File \"/opt/anaconda3/lib/python3.9/site-packages/scrapy/middleware.py\", line 40, in from_settings\n",
      "    mwcls = load_object(clspath)\n",
      "  File \"/opt/anaconda3/lib/python3.9/site-packages/scrapy/utils/misc.py\", line 66, in load_object\n",
      "    raise NameError(f\"Module '{module}' doesn't define any object named '{name}'\")\n",
      "NameError: Module '__main__' doesn't define any object named 'ExtractFirstLine'\n"
     ]
    },
    {
     "ename": "NameError",
     "evalue": "name 'TextResponse' is not defined",
     "output_type": "error",
     "traceback": [
      "\u001B[0;31m---------------------------------------------------------------------------\u001B[0m",
      "\u001B[0;31mNameError\u001B[0m                                 Traceback (most recent call last)",
      "\u001B[0;32m/var/folders/3f/8zmvqw292tn3xqty7hzkgv340000gn/T/ipykernel_62704/1998901039.py\u001B[0m in \u001B[0;36m<module>\u001B[0;34m\u001B[0m\n\u001B[1;32m      1\u001B[0m \u001B[0murl\u001B[0m \u001B[0;34m=\u001B[0m \u001B[0;34m\"https://quotes.toscrape.com/\"\u001B[0m\u001B[0;34m\u001B[0m\u001B[0;34m\u001B[0m\u001B[0m\n\u001B[1;32m      2\u001B[0m \u001B[0mr\u001B[0m \u001B[0;34m=\u001B[0m \u001B[0mrequests\u001B[0m\u001B[0;34m.\u001B[0m\u001B[0mget\u001B[0m\u001B[0;34m(\u001B[0m\u001B[0murl\u001B[0m\u001B[0;34m)\u001B[0m\u001B[0;34m\u001B[0m\u001B[0;34m\u001B[0m\u001B[0m\n\u001B[0;32m----> 3\u001B[0;31m \u001B[0mresponse\u001B[0m \u001B[0;34m=\u001B[0m \u001B[0mTextResponse\u001B[0m\u001B[0;34m(\u001B[0m\u001B[0mr\u001B[0m\u001B[0;34m.\u001B[0m\u001B[0murl\u001B[0m\u001B[0;34m,\u001B[0m\u001B[0mbody\u001B[0m\u001B[0;34m=\u001B[0m\u001B[0mr\u001B[0m\u001B[0;34m.\u001B[0m\u001B[0mtext\u001B[0m\u001B[0;34m,\u001B[0m\u001B[0mencoding\u001B[0m\u001B[0;34m=\u001B[0m\u001B[0;34m\"utf-8\"\u001B[0m\u001B[0;34m)\u001B[0m\u001B[0;34m\u001B[0m\u001B[0;34m\u001B[0m\u001B[0m\n\u001B[0m\u001B[1;32m      4\u001B[0m \u001B[0mresponse\u001B[0m\u001B[0;34m.\u001B[0m\u001B[0mcss\u001B[0m\u001B[0;34m(\u001B[0m\u001B[0;34m\"div.quote>span.text\"\u001B[0m\u001B[0;34m)\u001B[0m\u001B[0;34m.\u001B[0m\u001B[0mextract\u001B[0m\u001B[0;34m(\u001B[0m\u001B[0;34m)\u001B[0m\u001B[0;34m\u001B[0m\u001B[0;34m\u001B[0m\u001B[0m\n",
      "\u001B[0;31mNameError\u001B[0m: name 'TextResponse' is not defined"
     ]
    }
   ],
   "source": [
    "url = \"https://quotes.toscrape.com/\"\n",
    "r = requests.get(url)\n",
    "response = TextResponse(r.url,body=r.text,encoding=\"utf-8\")\n",
    "response.css(\"div.quote>span.text\").extract()"
   ],
   "metadata": {
    "collapsed": false
   }
  },
  {
   "cell_type": "code",
   "execution_count": 7,
   "outputs": [
    {
     "ename": "ValueError",
     "evalue": "Expected object or value",
     "output_type": "error",
     "traceback": [
      "\u001B[0;31m---------------------------------------------------------------------------\u001B[0m",
      "\u001B[0;31mValueError\u001B[0m                                Traceback (most recent call last)",
      "\u001B[0;32m/var/folders/3f/8zmvqw292tn3xqty7hzkgv340000gn/T/ipykernel_62704/4144846816.py\u001B[0m in \u001B[0;36m<module>\u001B[0;34m\u001B[0m\n\u001B[1;32m      1\u001B[0m \u001B[0;32mimport\u001B[0m \u001B[0mpandas\u001B[0m \u001B[0;32mas\u001B[0m \u001B[0mpd\u001B[0m\u001B[0;34m\u001B[0m\u001B[0;34m\u001B[0m\u001B[0m\n\u001B[0;32m----> 2\u001B[0;31m \u001B[0mp\u001B[0m\u001B[0;34m=\u001B[0m\u001B[0mpd\u001B[0m\u001B[0;34m.\u001B[0m\u001B[0mread_json\u001B[0m\u001B[0;34m(\u001B[0m\u001B[0;34mr'/Users/gorasmagda/Desktop/University/Politechnika Śląska /Semestr V/Python w Analizie Danych/quotes.json'\u001B[0m\u001B[0;34m)\u001B[0m\u001B[0;34m\u001B[0m\u001B[0;34m\u001B[0m\u001B[0m\n\u001B[0m\u001B[1;32m      3\u001B[0m \u001B[0mp\u001B[0m\u001B[0;34m\u001B[0m\u001B[0;34m\u001B[0m\u001B[0m\n",
      "\u001B[0;32m/opt/anaconda3/lib/python3.9/site-packages/pandas/util/_decorators.py\u001B[0m in \u001B[0;36mwrapper\u001B[0;34m(*args, **kwargs)\u001B[0m\n\u001B[1;32m    205\u001B[0m                 \u001B[0;32melse\u001B[0m\u001B[0;34m:\u001B[0m\u001B[0;34m\u001B[0m\u001B[0;34m\u001B[0m\u001B[0m\n\u001B[1;32m    206\u001B[0m                     \u001B[0mkwargs\u001B[0m\u001B[0;34m[\u001B[0m\u001B[0mnew_arg_name\u001B[0m\u001B[0;34m]\u001B[0m \u001B[0;34m=\u001B[0m \u001B[0mnew_arg_value\u001B[0m\u001B[0;34m\u001B[0m\u001B[0;34m\u001B[0m\u001B[0m\n\u001B[0;32m--> 207\u001B[0;31m             \u001B[0;32mreturn\u001B[0m \u001B[0mfunc\u001B[0m\u001B[0;34m(\u001B[0m\u001B[0;34m*\u001B[0m\u001B[0margs\u001B[0m\u001B[0;34m,\u001B[0m \u001B[0;34m**\u001B[0m\u001B[0mkwargs\u001B[0m\u001B[0;34m)\u001B[0m\u001B[0;34m\u001B[0m\u001B[0;34m\u001B[0m\u001B[0m\n\u001B[0m\u001B[1;32m    208\u001B[0m \u001B[0;34m\u001B[0m\u001B[0m\n\u001B[1;32m    209\u001B[0m         \u001B[0;32mreturn\u001B[0m \u001B[0mcast\u001B[0m\u001B[0;34m(\u001B[0m\u001B[0mF\u001B[0m\u001B[0;34m,\u001B[0m \u001B[0mwrapper\u001B[0m\u001B[0;34m)\u001B[0m\u001B[0;34m\u001B[0m\u001B[0;34m\u001B[0m\u001B[0m\n",
      "\u001B[0;32m/opt/anaconda3/lib/python3.9/site-packages/pandas/util/_decorators.py\u001B[0m in \u001B[0;36mwrapper\u001B[0;34m(*args, **kwargs)\u001B[0m\n\u001B[1;32m    309\u001B[0m                     \u001B[0mstacklevel\u001B[0m\u001B[0;34m=\u001B[0m\u001B[0mstacklevel\u001B[0m\u001B[0;34m,\u001B[0m\u001B[0;34m\u001B[0m\u001B[0;34m\u001B[0m\u001B[0m\n\u001B[1;32m    310\u001B[0m                 )\n\u001B[0;32m--> 311\u001B[0;31m             \u001B[0;32mreturn\u001B[0m \u001B[0mfunc\u001B[0m\u001B[0;34m(\u001B[0m\u001B[0;34m*\u001B[0m\u001B[0margs\u001B[0m\u001B[0;34m,\u001B[0m \u001B[0;34m**\u001B[0m\u001B[0mkwargs\u001B[0m\u001B[0;34m)\u001B[0m\u001B[0;34m\u001B[0m\u001B[0;34m\u001B[0m\u001B[0m\n\u001B[0m\u001B[1;32m    312\u001B[0m \u001B[0;34m\u001B[0m\u001B[0m\n\u001B[1;32m    313\u001B[0m         \u001B[0;32mreturn\u001B[0m \u001B[0mwrapper\u001B[0m\u001B[0;34m\u001B[0m\u001B[0;34m\u001B[0m\u001B[0m\n",
      "\u001B[0;32m/opt/anaconda3/lib/python3.9/site-packages/pandas/io/json/_json.py\u001B[0m in \u001B[0;36mread_json\u001B[0;34m(path_or_buf, orient, typ, dtype, convert_axes, convert_dates, keep_default_dates, numpy, precise_float, date_unit, encoding, encoding_errors, lines, chunksize, compression, nrows, storage_options)\u001B[0m\n\u001B[1;32m    610\u001B[0m \u001B[0;34m\u001B[0m\u001B[0m\n\u001B[1;32m    611\u001B[0m     \u001B[0;32mwith\u001B[0m \u001B[0mjson_reader\u001B[0m\u001B[0;34m:\u001B[0m\u001B[0;34m\u001B[0m\u001B[0;34m\u001B[0m\u001B[0m\n\u001B[0;32m--> 612\u001B[0;31m         \u001B[0;32mreturn\u001B[0m \u001B[0mjson_reader\u001B[0m\u001B[0;34m.\u001B[0m\u001B[0mread\u001B[0m\u001B[0;34m(\u001B[0m\u001B[0;34m)\u001B[0m\u001B[0;34m\u001B[0m\u001B[0;34m\u001B[0m\u001B[0m\n\u001B[0m\u001B[1;32m    613\u001B[0m \u001B[0;34m\u001B[0m\u001B[0m\n\u001B[1;32m    614\u001B[0m \u001B[0;34m\u001B[0m\u001B[0m\n",
      "\u001B[0;32m/opt/anaconda3/lib/python3.9/site-packages/pandas/io/json/_json.py\u001B[0m in \u001B[0;36mread\u001B[0;34m(self)\u001B[0m\n\u001B[1;32m    744\u001B[0m                 \u001B[0mobj\u001B[0m \u001B[0;34m=\u001B[0m \u001B[0mself\u001B[0m\u001B[0;34m.\u001B[0m\u001B[0m_get_object_parser\u001B[0m\u001B[0;34m(\u001B[0m\u001B[0mself\u001B[0m\u001B[0;34m.\u001B[0m\u001B[0m_combine_lines\u001B[0m\u001B[0;34m(\u001B[0m\u001B[0mdata_lines\u001B[0m\u001B[0;34m)\u001B[0m\u001B[0;34m)\u001B[0m\u001B[0;34m\u001B[0m\u001B[0;34m\u001B[0m\u001B[0m\n\u001B[1;32m    745\u001B[0m         \u001B[0;32melse\u001B[0m\u001B[0;34m:\u001B[0m\u001B[0;34m\u001B[0m\u001B[0;34m\u001B[0m\u001B[0m\n\u001B[0;32m--> 746\u001B[0;31m             \u001B[0mobj\u001B[0m \u001B[0;34m=\u001B[0m \u001B[0mself\u001B[0m\u001B[0;34m.\u001B[0m\u001B[0m_get_object_parser\u001B[0m\u001B[0;34m(\u001B[0m\u001B[0mself\u001B[0m\u001B[0;34m.\u001B[0m\u001B[0mdata\u001B[0m\u001B[0;34m)\u001B[0m\u001B[0;34m\u001B[0m\u001B[0;34m\u001B[0m\u001B[0m\n\u001B[0m\u001B[1;32m    747\u001B[0m         \u001B[0mself\u001B[0m\u001B[0;34m.\u001B[0m\u001B[0mclose\u001B[0m\u001B[0;34m(\u001B[0m\u001B[0;34m)\u001B[0m\u001B[0;34m\u001B[0m\u001B[0;34m\u001B[0m\u001B[0m\n\u001B[1;32m    748\u001B[0m         \u001B[0;32mreturn\u001B[0m \u001B[0mobj\u001B[0m\u001B[0;34m\u001B[0m\u001B[0;34m\u001B[0m\u001B[0m\n",
      "\u001B[0;32m/opt/anaconda3/lib/python3.9/site-packages/pandas/io/json/_json.py\u001B[0m in \u001B[0;36m_get_object_parser\u001B[0;34m(self, json)\u001B[0m\n\u001B[1;32m    766\u001B[0m         \u001B[0mobj\u001B[0m \u001B[0;34m=\u001B[0m \u001B[0;32mNone\u001B[0m\u001B[0;34m\u001B[0m\u001B[0;34m\u001B[0m\u001B[0m\n\u001B[1;32m    767\u001B[0m         \u001B[0;32mif\u001B[0m \u001B[0mtyp\u001B[0m \u001B[0;34m==\u001B[0m \u001B[0;34m\"frame\"\u001B[0m\u001B[0;34m:\u001B[0m\u001B[0;34m\u001B[0m\u001B[0;34m\u001B[0m\u001B[0m\n\u001B[0;32m--> 768\u001B[0;31m             \u001B[0mobj\u001B[0m \u001B[0;34m=\u001B[0m \u001B[0mFrameParser\u001B[0m\u001B[0;34m(\u001B[0m\u001B[0mjson\u001B[0m\u001B[0;34m,\u001B[0m \u001B[0;34m**\u001B[0m\u001B[0mkwargs\u001B[0m\u001B[0;34m)\u001B[0m\u001B[0;34m.\u001B[0m\u001B[0mparse\u001B[0m\u001B[0;34m(\u001B[0m\u001B[0;34m)\u001B[0m\u001B[0;34m\u001B[0m\u001B[0;34m\u001B[0m\u001B[0m\n\u001B[0m\u001B[1;32m    769\u001B[0m \u001B[0;34m\u001B[0m\u001B[0m\n\u001B[1;32m    770\u001B[0m         \u001B[0;32mif\u001B[0m \u001B[0mtyp\u001B[0m \u001B[0;34m==\u001B[0m \u001B[0;34m\"series\"\u001B[0m \u001B[0;32mor\u001B[0m \u001B[0mobj\u001B[0m \u001B[0;32mis\u001B[0m \u001B[0;32mNone\u001B[0m\u001B[0;34m:\u001B[0m\u001B[0;34m\u001B[0m\u001B[0;34m\u001B[0m\u001B[0m\n",
      "\u001B[0;32m/opt/anaconda3/lib/python3.9/site-packages/pandas/io/json/_json.py\u001B[0m in \u001B[0;36mparse\u001B[0;34m(self)\u001B[0m\n\u001B[1;32m    878\u001B[0m             \u001B[0mself\u001B[0m\u001B[0;34m.\u001B[0m\u001B[0m_parse_numpy\u001B[0m\u001B[0;34m(\u001B[0m\u001B[0;34m)\u001B[0m\u001B[0;34m\u001B[0m\u001B[0;34m\u001B[0m\u001B[0m\n\u001B[1;32m    879\u001B[0m         \u001B[0;32melse\u001B[0m\u001B[0;34m:\u001B[0m\u001B[0;34m\u001B[0m\u001B[0;34m\u001B[0m\u001B[0m\n\u001B[0;32m--> 880\u001B[0;31m             \u001B[0mself\u001B[0m\u001B[0;34m.\u001B[0m\u001B[0m_parse_no_numpy\u001B[0m\u001B[0;34m(\u001B[0m\u001B[0;34m)\u001B[0m\u001B[0;34m\u001B[0m\u001B[0;34m\u001B[0m\u001B[0m\n\u001B[0m\u001B[1;32m    881\u001B[0m \u001B[0;34m\u001B[0m\u001B[0m\n\u001B[1;32m    882\u001B[0m         \u001B[0;32mif\u001B[0m \u001B[0mself\u001B[0m\u001B[0;34m.\u001B[0m\u001B[0mobj\u001B[0m \u001B[0;32mis\u001B[0m \u001B[0;32mNone\u001B[0m\u001B[0;34m:\u001B[0m\u001B[0;34m\u001B[0m\u001B[0;34m\u001B[0m\u001B[0m\n",
      "\u001B[0;32m/opt/anaconda3/lib/python3.9/site-packages/pandas/io/json/_json.py\u001B[0m in \u001B[0;36m_parse_no_numpy\u001B[0;34m(self)\u001B[0m\n\u001B[1;32m   1131\u001B[0m         \u001B[0;32mif\u001B[0m \u001B[0morient\u001B[0m \u001B[0;34m==\u001B[0m \u001B[0;34m\"columns\"\u001B[0m\u001B[0;34m:\u001B[0m\u001B[0;34m\u001B[0m\u001B[0;34m\u001B[0m\u001B[0m\n\u001B[1;32m   1132\u001B[0m             self.obj = DataFrame(\n\u001B[0;32m-> 1133\u001B[0;31m                 \u001B[0mloads\u001B[0m\u001B[0;34m(\u001B[0m\u001B[0mjson\u001B[0m\u001B[0;34m,\u001B[0m \u001B[0mprecise_float\u001B[0m\u001B[0;34m=\u001B[0m\u001B[0mself\u001B[0m\u001B[0;34m.\u001B[0m\u001B[0mprecise_float\u001B[0m\u001B[0;34m)\u001B[0m\u001B[0;34m,\u001B[0m \u001B[0mdtype\u001B[0m\u001B[0;34m=\u001B[0m\u001B[0;32mNone\u001B[0m\u001B[0;34m\u001B[0m\u001B[0;34m\u001B[0m\u001B[0m\n\u001B[0m\u001B[1;32m   1134\u001B[0m             )\n\u001B[1;32m   1135\u001B[0m         \u001B[0;32melif\u001B[0m \u001B[0morient\u001B[0m \u001B[0;34m==\u001B[0m \u001B[0;34m\"split\"\u001B[0m\u001B[0;34m:\u001B[0m\u001B[0;34m\u001B[0m\u001B[0;34m\u001B[0m\u001B[0m\n",
      "\u001B[0;31mValueError\u001B[0m: Expected object or value"
     ]
    }
   ],
   "source": [
    "import pandas as pd\n",
    "p=pd.read_json(r'/Users/gorasmagda/Desktop/University/Politechnika Śląska /Semestr V/Python w Analizie Danych/quotes.json')\n",
    "p"
   ],
   "metadata": {
    "collapsed": false
   }
  },
  {
   "cell_type": "markdown",
   "source": [
    "### Zadanie 2\n",
    "A. Ze strony [https://helion.pl/](https://helion.pl/) wyszukaj listę pozycji dotycząca Pythona.\n",
    "B. Pobierz wszystkie tytuły książek oraz ich ceny, a następnie zapisz uzyskane dane w formacie .json.\n",
    "C. Z danych odczytaj, która książka jest:\n",
    " - najdroższa,\n",
    "- najtańsza,\n",
    "- najbliższa cenie średniej za książkę."
   ],
   "metadata": {
    "collapsed": false
   }
  },
  {
   "cell_type": "code",
   "execution_count": null,
   "outputs": [],
   "source": [],
   "metadata": {
    "collapsed": false
   }
  }
 ],
 "metadata": {
  "kernelspec": {
   "display_name": "Python 3",
   "language": "python",
   "name": "python3"
  },
  "language_info": {
   "codemirror_mode": {
    "name": "ipython",
    "version": 2
   },
   "file_extension": ".py",
   "mimetype": "text/x-python",
   "name": "python",
   "nbconvert_exporter": "python",
   "pygments_lexer": "ipython2",
   "version": "2.7.6"
  }
 },
 "nbformat": 4,
 "nbformat_minor": 0
}
