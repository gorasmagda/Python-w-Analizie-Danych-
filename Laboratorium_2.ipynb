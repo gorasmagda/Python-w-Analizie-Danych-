{
 "cells": [
  {
   "cell_type": "code",
   "execution_count": 15,
   "id": "41455acd",
   "metadata": {},
   "outputs": [
    {
     "name": "stdout",
     "output_type": "stream",
     "text": [
      "Wlasciciel: Magda, numer konta: 1,saldo: 100,kredyt: 2000,lokata: 3000\n",
      "Wlasciciel: Magda, numer konta: 1,saldo: 100,kredyt: 2000,lokata: 3000\n",
      "Wlasciciel: Magda, numer konta: 1,saldo: -100,kredyt: 2000,lokata: 3200\n",
      "Wlasciciel: Magda, numer konta: 1,saldo: 3900,kredyt: 6000,lokata: 3200\n",
      "Wlasciciel: Ola, numer konta: 2,saldo: 100,kredyt: 2000,lokata: 3000\n",
      "Wlasciciel: Magda, numer konta: 1,saldo: 3600,kredyt: 6000,lokata: 3200\n",
      "Wlasciciel: Ola, numer konta: 2,saldo: 400,kredyt: 2000,lokata: 3000\n"
     ]
    }
   ],
   "source": [
    "#Zadanie 1\n",
    "\n",
    "#1 \n",
    "class Konto:   \n",
    "#klasa przedstawiajaca konto bankowe \n",
    "    def __init__(self, wlasciciel, nr_konta, saldo=0, kredyt=0, lokata=0):\n",
    "        self.wlasciciel = wlasciciel\n",
    "        self.nr_konta = nr_konta\n",
    "        self.saldo = saldo\n",
    "        self.kredyt = kredyt\n",
    "        self.lokata = lokata\n",
    "#2\n",
    "#drukowanie iformacji o klasie \n",
    "    def __str__(self):\n",
    "        return \"Wlasciciel: {}, numer konta: {},saldo: {},kredyt: {},lokata: {}\".format(self.wlasciciel,self.nr_konta,self.saldo, self.kredyt,self.lokata)\n",
    "#zaloz_lokata- przerzuca srodki z saldo na lokata     \n",
    "    def zaloz_lokata(self, kwota):\n",
    "        self.lokata += kwota\n",
    "        self.saldo -= kwota\n",
    "#wez_kredyt \n",
    "    def wez_kredyt(self,kwota):\n",
    "        self.saldo +=kwota\n",
    "        self.kredyt+=kwota\n",
    "#przelew - przelewamy srodki na inne konto \n",
    "    def przelew(self, other, kwota):\n",
    "        other.saldo +=kwota;\n",
    "        self.saldo -=kwota\n",
    "\n",
    "\n",
    "konto_1 = Konto(\"Magda\", 1, 100, 2000, 3000)\n",
    "konto_2 = Konto(\"Ola\", 2, 100, 2000, 3000)\n",
    "print(konto_1) \n",
    "print(konto_1)   \n",
    "konto_1.zaloz_lokata(200)\n",
    "print(konto_1) \n",
    "konto_1.wez_kredyt(4000)\n",
    "print(konto_1) \n",
    "print(konto_2)\n",
    "konto_1.przelew(konto_2, 300)\n",
    "print(konto_1) \n",
    "print(konto_2)"
   ]
  },
  {
   "cell_type": "code",
   "execution_count": 41,
   "id": "86913150",
   "metadata": {},
   "outputs": [
    {
     "name": "stdout",
     "output_type": "stream",
     "text": [
      "Wlasciciel: Magda, numer konta: 1,saldo: 100,kredyt: 2000,lokata: 3000, histiria: []\n",
      "Wlasciciel: Magda, numer konta: 1,saldo: 100,kredyt: 2000,lokata: 3000, histiria: []\n",
      "Wlasciciel: Magda, numer konta: 1,saldo: -100,kredyt: 2000,lokata: 3200, histiria: ['lokata na 200 zł']\n",
      "Wlasciciel: Magda, numer konta: 1,saldo: 3900,kredyt: 6000,lokata: 3200, histiria: ['lokata na 200 zł', 'kredyt na 4000 zł']\n",
      "Wlasciciel: Ola, numer konta: 2,saldo: 100,kredyt: 2000,lokata: 3000, histiria: ['lokata na 200 zł', 'kredyt na 4000 zł']\n",
      "Wlasciciel: Magda, numer konta: 1,saldo: 3600,kredyt: 6000,lokata: 3200, histiria: ['lokata na 200 zł', 'kredyt na 4000 zł', 'przelew dla Ola na 300 zł']\n",
      "Wlasciciel: Ola, numer konta: 2,saldo: 400,kredyt: 2000,lokata: 3000, histiria: ['lokata na 200 zł', 'kredyt na 4000 zł', 'przelew dla Ola na 300 zł']\n",
      "!!!!!!!!!!!!!!!!!!!!\n",
      "Historia konta własiciela o imieniu Magda:  ['lokata na 200 zł', 'kredyt na 4000 zł', 'przelew dla Ola na 300 zł']\n"
     ]
    }
   ],
   "source": [
    "#3\n",
    "class Konto_VIP(Konto):\n",
    "#Klasa dla kont VIP dziedzicząca po klasie Konto \n",
    "    def __init__(self, wlasciciel,nr_konta, saldo=0, kredyt=0, lokata=0, historia=[]):\n",
    "        super().__init__(wlasciciel, nr_konta, saldo, kredyt, lokata)\n",
    "        self.historia = historia\n",
    "#zaloz_lokata- przerzuca srodki z saldo na lokata     \n",
    "    def zaloz_lokata(self, kwota):\n",
    "        self.historia.append(f\"lokata na {kwota} zł\")\n",
    "        self.lokata += kwota\n",
    "        self.saldo -= kwota\n",
    "#wez_kredyt \n",
    "    def wez_kredyt(self,kwota):\n",
    "        self.historia.append(f\"kredyt na {kwota} zł\")\n",
    "        self.saldo +=kwota\n",
    "        self.kredyt+=kwota\n",
    "#przelew - przelewamy srodki na inne konto \n",
    "    def przelew(self, other, kwota):\n",
    "        name = other.__dict__[\"wlasciciel\"]\n",
    "        self.historia.append(f\"przelew dla {name} na {kwota} zł\")\n",
    "        other.saldo +=kwota;\n",
    "        self.saldo -=kwota\n",
    "    def historia_konta(self):\n",
    "        name=self.__dict__[\"wlasciciel\"]\n",
    "        print(f\"Historia konta własiciela o imieniu {name}: \",self.historia)\n",
    "    #drukowanie iformacji o klasie \n",
    "    def __str__(self):\n",
    "        return \"Wlasciciel: {}, numer konta: {},saldo: {},kredyt: {},lokata: {}, histiria: {}\".format(self.wlasciciel,self.nr_konta,self.saldo, self.kredyt,self.lokata, self.historia)\n",
    "\n",
    "konto_3 = Konto_VIP(\"Magda\", 1, 100, 2000, 3000,)\n",
    "konto_4 = Konto_VIP(\"Ola\", 2, 100, 2000, 3000,)\n",
    "print(konto_3) \n",
    "print(konto_3)   \n",
    "konto_3.zaloz_lokata(200)\n",
    "print(konto_3) \n",
    "konto_3.wez_kredyt(4000)\n",
    "print(konto_3) \n",
    "print(konto_4)\n",
    "konto_3.przelew(konto_4, 300)\n",
    "print(konto_3) \n",
    "print(konto_4)\n",
    "print(\"!!!!!!!!!!!!!!!!!!!!\")\n",
    "konto_3.historia_konta()\n",
    "\n",
    "\n",
    "\n",
    "\n",
    "    \n",
    "    "
   ]
  },
  {
   "cell_type": "code",
   "execution_count": 54,
   "id": "116048ff",
   "metadata": {},
   "outputs": [
    {
     "name": "stdout",
     "output_type": "stream",
     "text": [
      "suma to :  3\n",
      "suma trzech cyfr to:  6\n"
     ]
    }
   ],
   "source": [
    "#Zadanie 2 \n",
    "class Dzialania:\n",
    "    def __init__(self, a=0,b=0):\n",
    "        self.a = a\n",
    "        self.b = b\n",
    "    def suma(self):\n",
    "        print(\"suma to : \",self.a+self.b) \n",
    "class DzialaniaMore(Dzialania): \n",
    "    def __init__(self,a=0,b=0,c=0):\n",
    "        super().__init__(a,b)\n",
    "        self.c = c\n",
    "    def suma_c(self):\n",
    "        print(\"suma trzech cyfr to: \", self.a+self.b+self.c)\n",
    "    \n",
    "\n",
    "x=Dzialania(1,2)\n",
    "x.suma()\n",
    "y=DzialaniaMore(1,2,3)\n",
    "y.suma_c()"
   ]
  },
  {
   "cell_type": "code",
   "execution_count": null,
   "id": "e6d07d49",
   "metadata": {},
   "outputs": [],
   "source": []
  }
 ],
 "metadata": {
  "kernelspec": {
   "display_name": "Python 3.10.6 64-bit",
   "language": "python",
   "name": "python3"
  },
  "language_info": {
   "codemirror_mode": {
    "name": "ipython",
    "version": 3
   },
   "file_extension": ".py",
   "mimetype": "text/x-python",
   "name": "python",
   "nbconvert_exporter": "python",
   "pygments_lexer": "ipython3",
   "version": "3.10.6"
  },
  "vscode": {
   "interpreter": {
    "hash": "aee8b7b246df8f9039afb4144a1f6fd8d2ca17a180786b69acc140d282b71a49"
   }
  }
 },
 "nbformat": 4,
 "nbformat_minor": 5
}
