{
 "cells": [
  {
   "cell_type": "code",
   "execution_count": 15,
   "id": "89559ea1",
   "metadata": {},
   "outputs": [
    {
     "data": {
      "text/plain": [
       "12"
      ]
     },
     "execution_count": 15,
     "metadata": {},
     "output_type": "execute_result"
    }
   ],
   "source": [
    "def zad1(a,b):\n",
    "    return a*b\n",
    "zad1(3,4)"
   ]
  },
  {
   "cell_type": "code",
   "execution_count": 16,
   "id": "e05b80a8",
   "metadata": {},
   "outputs": [
    {
     "name": "stdout",
     "output_type": "stream",
     "text": [
      "Liczba parzysta\n"
     ]
    }
   ],
   "source": [
    "def zad2(a):\n",
    "    if float(a)%2 == 0:\n",
    "        print(\"Liczba parzysta\")\n",
    "    else: \n",
    "        print(\"Liczba nieparzysta\")\n",
    "zad2(4)"
   ]
  },
  {
   "cell_type": "code",
   "execution_count": 9,
   "id": "6b86a8ee",
   "metadata": {},
   "outputs": [
    {
     "data": {
      "text/plain": [
       "4"
      ]
     },
     "execution_count": 9,
     "metadata": {},
     "output_type": "execute_result"
    }
   ],
   "source": [
    "#dzielenie calkowito liczbowe \n",
    "14//3"
   ]
  },
  {
   "cell_type": "code",
   "execution_count": 10,
   "id": "aa280f4e",
   "metadata": {},
   "outputs": [
    {
     "data": {
      "text/plain": [
       "2.0"
      ]
     },
     "execution_count": 10,
     "metadata": {},
     "output_type": "execute_result"
    }
   ],
   "source": [
    "3//1.4"
   ]
  },
  {
   "cell_type": "code",
   "execution_count": 24,
   "id": "334c146b",
   "metadata": {},
   "outputs": [
    {
     "data": {
      "text/plain": [
       "5"
      ]
     },
     "execution_count": 24,
     "metadata": {},
     "output_type": "execute_result"
    }
   ],
   "source": [
    "def zad3(a):\n",
    "    result=0\n",
    "    for i in range(a):\n",
    "        result+=i**2\n",
    "    return(result)\n",
    "zad3(3)"
   ]
  },
  {
   "cell_type": "code",
   "execution_count": 25,
   "id": "27094cb4",
   "metadata": {},
   "outputs": [
    {
     "name": "stdout",
     "output_type": "stream",
     "text": [
      "Liczba jest pierwsza\n"
     ]
    }
   ],
   "source": [
    "def zad4(a):\n",
    "    if a%1==0 and a%a == 0:\n",
    "        print(\"Liczba jest pierwsza\")\n",
    "    else: \n",
    "        print(\"Liczba nie jest pierwsza\")\n",
    "zad4(5)"
   ]
  },
  {
   "cell_type": "code",
   "execution_count": 49,
   "id": "b93e9cf8",
   "metadata": {},
   "outputs": [
    {
     "name": "stdout",
     "output_type": "stream",
     "text": [
      "[1, 2, 3, 6]\n"
     ]
    }
   ],
   "source": [
    "def zad5(x):\n",
    "    d=[]\n",
    "    for i in range(x):\n",
    "        if x%(i+1) == 0:\n",
    "            d.append(i+1)\n",
    "    print(d)\n",
    "zad5(6)\n"
   ]
  },
  {
   "cell_type": "code",
   "execution_count": 64,
   "id": "999d743a",
   "metadata": {},
   "outputs": [
    {
     "data": {
      "text/plain": [
       "[137, 3]"
      ]
     },
     "execution_count": 64,
     "metadata": {},
     "output_type": "execute_result"
    }
   ],
   "source": [
    "#?????\n",
    "def zad6(x):\n",
    "    d=[]\n",
    "    while(x>1): \n",
    "        for i in range(2,x+1):\n",
    "            if x % i == 0:\n",
    "                d.append(i)\n",
    "                x//=i\n",
    "                break\n",
    "    return list(set(d))\n",
    "zad6(1233)               "
   ]
  },
  {
   "cell_type": "code",
   "execution_count": 70,
   "id": "59e2f8a2",
   "metadata": {},
   "outputs": [
    {
     "data": {
      "text/plain": [
       "14"
      ]
     },
     "execution_count": 70,
     "metadata": {},
     "output_type": "execute_result"
    }
   ],
   "source": [
    "#zadanie 7 - znajdzie najmniejszą wspólna wielokrotność podanych dwóch liczb.\n",
    "def nwd(a, b):\n",
    "    if b > 0:\n",
    "        return nwd(b, a%b)\n",
    "    else:\n",
    "        return a\n",
    "def nww(a, b): return a*b//nwd(a, b)\n",
    "\n",
    "nww(2,7)\n",
    "    "
   ]
  },
  {
   "cell_type": "code",
   "execution_count": 79,
   "id": "fe140fc3",
   "metadata": {},
   "outputs": [
    {
     "name": "stdout",
     "output_type": "stream",
     "text": [
      "Wypisz liczbe :4\n"
     ]
    },
    {
     "data": {
      "text/plain": [
       "'0b100'"
      ]
     },
     "execution_count": 79,
     "metadata": {},
     "output_type": "execute_result"
    }
   ],
   "source": [
    "#zadanie 8 - przedstawi zadaną liczbę w postaci binarnej.\n",
    "x= input(\"Wypisz liczbe :\")\n",
    "def binary(x):\n",
    "    b=bin(int(x))\n",
    "    return(b)\n",
    "binary(x)\n"
   ]
  },
  {
   "cell_type": "code",
   "execution_count": 81,
   "id": "60f34a6d",
   "metadata": {},
   "outputs": [
    {
     "name": "stdout",
     "output_type": "stream",
     "text": [
      "60\n"
     ]
    },
    {
     "data": {
      "text/plain": [
       "(-7.872983346207417, -0.12701665379258298)"
      ]
     },
     "execution_count": 81,
     "metadata": {},
     "output_type": "execute_result"
    }
   ],
   "source": [
    "#zadanie 9 - dla zadanych wartości współczynników trójmianu kwadratowego znajdzie jego miejsca zerowe.\n",
    "\n",
    "import math\n",
    "def zad9(a,b,c):\n",
    "    delta = (b**2 - 4*a*c)\n",
    "    print(delta)\n",
    "    if delta == 0:\n",
    "        return -b/(2*a)\n",
    "    elif delta < 0:\n",
    "        print(\"Brak miejsc zerowych\")\n",
    "    else: \n",
    "        return (-math.sqrt(delta)-b)/(2*a), (math.sqrt(delta)-b)/(2*a)\n",
    "zad9(1,8,1)\n",
    "    "
   ]
  },
  {
   "cell_type": "code",
   "execution_count": 90,
   "id": "f859f7f5",
   "metadata": {},
   "outputs": [
    {
     "name": "stdout",
     "output_type": "stream",
     "text": [
      "24\n"
     ]
    },
    {
     "data": {
      "text/plain": [
       "24"
      ]
     },
     "execution_count": 90,
     "metadata": {},
     "output_type": "execute_result"
    }
   ],
   "source": [
    "#zadanie 10 - dla danego  n  obliczy  n! . Podaj różne rozwiązania tego problemu.\n",
    "#1\n",
    "def zad10_1(x):\n",
    "    factorial = 1\n",
    "    for i in range(1,x):\n",
    "        factorial = factorial * (i+1)\n",
    "    print(factorial)\n",
    "zad10_1(4)\n",
    "\n",
    "#2\n",
    "import math \n",
    "def zad10_2(x):\n",
    "    return math.factorial(x)\n",
    "zad10_2(4)\n",
    "        "
   ]
  },
  {
   "cell_type": "code",
   "execution_count": 11,
   "id": "eda88804",
   "metadata": {},
   "outputs": [
    {
     "name": "stdout",
     "output_type": "stream",
     "text": [
      "89\n"
     ]
    }
   ],
   "source": [
    "#zadanie 11 - oblicza n-tą liczbę Fibonacciego (n duże).\n",
    "\n",
    "def zad11(x):\n",
    "    a = 0 \n",
    "    b = 1\n",
    "    if x == 1:\n",
    "        return a\n",
    "    elif x == 2:\n",
    "        return b\n",
    "    else: \n",
    "        for i in range(3,x+1):\n",
    "            c = a+b \n",
    "            a = b \n",
    "            b = c\n",
    "        return b \n",
    "zad11(15)\n",
    "\n",
    "#Funkcja liczy n-tą liczbę Fibonacciego (n małe)\n",
    "\n",
    "def fib(n):\n",
    "    if n == 0 or n == 1:\n",
    "        return 1\n",
    "    else:\n",
    "        return fib(n-1) + fib(n-2)\n",
    "\n",
    "print(fib(10))"
   ]
  },
  {
   "cell_type": "code",
   "execution_count": 13,
   "id": "09bae2b5",
   "metadata": {},
   "outputs": [
    {
     "data": {
      "text/plain": [
       "19"
      ]
     },
     "execution_count": 13,
     "metadata": {},
     "output_type": "execute_result"
    }
   ],
   "source": [
    "#zadanie 12 - dla dowolnej ilości argumentów zwróci ich skumulowane sumy częściowe.\n",
    "def zad12_1(*args):\n",
    "    start = 0 \n",
    "    for arg in args: \n",
    "        start += arg\n",
    "    return start \n",
    "zad12_1(5,2,3,9)    "
   ]
  },
  {
   "cell_type": "code",
   "execution_count": 14,
   "id": "734c0630",
   "metadata": {},
   "outputs": [
    {
     "data": {
      "text/plain": [
       "2.5"
      ]
     },
     "execution_count": 14,
     "metadata": {},
     "output_type": "execute_result"
    }
   ],
   "source": [
    "#zadanie 13 - dla dowolnej ilości argumentów liczbowych zwróci ich średnią arytmetyczną.\n",
    "\n",
    "def zad13(*args):\n",
    "    start = 0\n",
    "    i = 0 \n",
    "    for arg in args: \n",
    "        start +=arg\n",
    "        i+=1\n",
    "    return start/i \n",
    "zad13(1,2,3,4)"
   ]
  },
  {
   "cell_type": "code",
   "execution_count": 15,
   "id": "2a59f160",
   "metadata": {},
   "outputs": [
    {
     "data": {
      "text/plain": [
       "'atok am alA'"
      ]
     },
     "execution_count": 15,
     "metadata": {},
     "output_type": "execute_result"
    }
   ],
   "source": [
    "# zadanie 14 - dla zadanego łancucha znaków zwróci łańcuch ze znakami w odwrotnej kolejności.\n",
    "def zad14(x):\n",
    "    return x[::-1]\n",
    "zad14(\"Ala ma kota\")"
   ]
  },
  {
   "cell_type": "code",
   "execution_count": 16,
   "id": "e1b7f0f3",
   "metadata": {},
   "outputs": [
    {
     "name": "stdout",
     "output_type": "stream",
     "text": [
      "lower : 5, upper : 1 \n"
     ]
    }
   ],
   "source": [
    "# zadanie 15 - dla danego łańcucha znaków zwróci informację ile jest w nim dużych, a ile małych liter.\n",
    "\n",
    "def zad15(x):\n",
    "    lower = 0 \n",
    "    upper = 0 \n",
    "    for i in x: \n",
    "        if i.islower() == True:\n",
    "            lower += 1\n",
    "        else: \n",
    "            upper += 1\n",
    "    print(f\"lower : {lower}, upper : {upper} \")\n",
    "zad15(\"Madzia\")"
   ]
  },
  {
   "cell_type": "code",
   "execution_count": 19,
   "id": "f41a58b6",
   "metadata": {},
   "outputs": [
    {
     "data": {
      "text/plain": [
       "[1, 2, 3, 4, 5]"
      ]
     },
     "execution_count": 19,
     "metadata": {},
     "output_type": "execute_result"
    }
   ],
   "source": [
    "#zadanie 16 - dla danej tablicy zwróci tablicę z jej unikalnymi elementami.\n",
    "\n",
    "def zad16(x):\n",
    "    return list(set(x))\n"
   ]
  },
  {
   "cell_type": "code",
   "execution_count": null,
   "id": "ab92d93e",
   "metadata": {},
   "outputs": [],
   "source": [
    "zad16([1,2,3,4,5,1,2,3])"
   ]
  },
  {
   "cell_type": "code",
   "execution_count": 2,
   "id": "74f8dab4",
   "metadata": {},
   "outputs": [
    {
     "ename": "ModuleNotFoundError",
     "evalue": "No module named 'pandas'",
     "output_type": "error",
     "traceback": [
      "\u001b[0;31m---------------------------------------------------------------------------\u001b[0m",
      "\u001b[0;31mModuleNotFoundError\u001b[0m                       Traceback (most recent call last)",
      "Cell \u001b[0;32mIn [2], line 2\u001b[0m\n\u001b[1;32m      1\u001b[0m \u001b[39m# zadanie 17 - dla zadanego łańcucha znaków zwróci słownik ze statystykami na temat częstości występowania poszczególnych znaków.\u001b[39;00m\n\u001b[0;32m----> 2\u001b[0m \u001b[39mimport\u001b[39;00m \u001b[39mpandas\u001b[39;00m \u001b[39mas\u001b[39;00m \u001b[39mpd\u001b[39;00m\n\u001b[1;32m      3\u001b[0m \u001b[39mdef\u001b[39;00m \u001b[39mzad17\u001b[39m(x):\n\u001b[1;32m      4\u001b[0m     \u001b[39mreturn\u001b[39;00m pd\u001b[39m.\u001b[39mSeries(\u001b[39mlist\u001b[39m(x))\u001b[39m.\u001b[39mvalue_counts()\n",
      "\u001b[0;31mModuleNotFoundError\u001b[0m: No module named 'pandas'"
     ]
    }
   ],
   "source": [
    "# zadanie 17 - dla zadanego łańcucha znaków zwróci słownik ze statystykami na temat częstości występowania poszczególnych znaków.\n",
    "import pandas as pd\n",
    "def zad17(x):\n",
    "    return pd.Series(list(x)).value_counts()\n",
    "zad17(\"alanos kompanieros\")"
   ]
  },
  {
   "cell_type": "markdown",
   "id": "8d27d0c9",
   "metadata": {},
   "source": []
  },
  {
   "cell_type": "code",
   "execution_count": 12,
   "id": "76a488b1",
   "metadata": {},
   "outputs": [
    {
     "data": {
      "text/plain": [
       "['Ala', 'ma', 'kota', 'a', 'kot', 'ma', 'ale']"
      ]
     },
     "execution_count": 12,
     "metadata": {},
     "output_type": "execute_result"
    }
   ],
   "source": [
    "#zadanie 18 - dla zadanego stringa zwróci liste słów, na które można go podzielić.\n",
    "def zad18(x):\n",
    "    return x.split()\n",
    "zad18(\"Ala ma kota a kot ma ale\")"
   ]
  },
  {
   "cell_type": "code",
   "execution_count": 13,
   "id": "364dc969",
   "metadata": {},
   "outputs": [
    {
     "data": {
      "text/plain": [
       "'alaMaPythona'"
      ]
     },
     "execution_count": 13,
     "metadata": {},
     "output_type": "execute_result"
    }
   ],
   "source": [
    "#zadanie 19 - dla zadanego string zwróci jego postać w notacji wielbłądziej, np. dla \"ala ma pythona\" otrzymamy 'alaMaPythona'.\n",
    "\n",
    "def zad19(x):\n",
    "    words = x.split()\n",
    "    words = [words[0].lower()] + [word.capitalize() for word in words[1:]]\n",
    "    return \"\".join(words)\n",
    "zad19(\"ala ma pythona\")"
   ]
  },
  {
   "cell_type": "code",
   "execution_count": 16,
   "id": "2d63f955",
   "metadata": {},
   "outputs": [
    {
     "data": {
      "text/plain": [
       "'ala ma kota a kot ma ale'"
      ]
     },
     "execution_count": 16,
     "metadata": {},
     "output_type": "execute_result"
    }
   ],
   "source": [
    "#zadanie 20 - dla string w postaci wielbłądziej zwróci jego postać \"normalną\", np. dla 'alaMaPythona' otrzymamy \"ala ma pythona\".\n",
    "\n",
    "def zad20(x):\n",
    "    to_split = [i for i in x if i.isupper()]\n",
    "    letters = list(x)\n",
    "    normal_word = letters[0].lower()\n",
    "    for i in letters[1:]:\n",
    "        if i in to_split:\n",
    "            normal_word += \" \"\n",
    "            normal_word += i.lower()\n",
    "        else:\n",
    "            normal_word += i\n",
    "    return normal_word\n",
    "zad20(\"alaMaKotaAKotMaAle\")\n"
   ]
  },
  {
   "cell_type": "code",
   "execution_count": 20,
   "id": "23e1fab2",
   "metadata": {},
   "outputs": [
    {
     "data": {
      "text/plain": [
       "2.23606797749979"
      ]
     },
     "execution_count": 20,
     "metadata": {},
     "output_type": "execute_result"
    }
   ],
   "source": [
    "#zadanie 21 - zgodnie z metodą babilońską obliczy przybliżenie pierwiastka kwadratowego danej liczby.\n",
    "\n",
    "def zad21(x):\n",
    "    g = x/2.0\n",
    "    g2 = g + 1\n",
    "    while(g != g2):\n",
    "        n = x/ g\n",
    "        g2 = g\n",
    "        g = (g + n)/2\n",
    "\n",
    "    return g\n",
    "zad21(5)\n"
   ]
  },
  {
   "cell_type": "code",
   "execution_count": 24,
   "id": "6050c85f",
   "metadata": {},
   "outputs": [
    {
     "data": {
      "text/plain": [
       "3.108"
      ]
     },
     "execution_count": 24,
     "metadata": {},
     "output_type": "execute_result"
    }
   ],
   "source": [
    "#zadanie 22 - przybliża wartość  𝜋 (metoda Monte-Carlo).\n",
    "import random as r\n",
    "\n",
    "def zad22():\n",
    "    circle_points = 0\n",
    "    square_points = 0\n",
    "    interval = 1000\n",
    "    for i in range(interval*2):\n",
    "        rand_x = r.uniform(-1,1)\n",
    "        rand_y = r.uniform(-1,1)\n",
    "        origin_dist = rand_x**2 + rand_y**2\n",
    "        if origin_dist <=1:\n",
    "            circle_points+= 1\n",
    "        square_points +=1\n",
    "        pi = 4*circle_points/square_points\n",
    "    return pi\n",
    "zad22()\n"
   ]
  },
  {
   "cell_type": "code",
   "execution_count": 26,
   "id": "2186b9ce",
   "metadata": {},
   "outputs": [
    {
     "data": {
      "text/plain": [
       "[(1, 4), (2, 5), (3, 6)]"
      ]
     },
     "execution_count": 26,
     "metadata": {},
     "output_type": "execute_result"
    }
   ],
   "source": [
    "#zadanie 23 - dla list a=[1, 2, 3] i b=[4, 5, 6] zwróci wynik c=[(1, 4), (2, 5), (3, 6)].\n",
    "\n",
    "def zad23(x,y):\n",
    "    new_list = []\n",
    "    for i in range(len(x)):\n",
    "        new_list.append((x[i], y[i]))\n",
    "    return new_list\n",
    "zad23([1,2,3],[4,5,6])\n",
    "\n"
   ]
  },
  {
   "cell_type": "code",
   "execution_count": 27,
   "id": "855666d5",
   "metadata": {},
   "outputs": [
    {
     "data": {
      "text/plain": [
       "[3,\n",
       " 6,\n",
       " 9,\n",
       " 12,\n",
       " 18,\n",
       " 21,\n",
       " 24,\n",
       " 27,\n",
       " 33,\n",
       " 36,\n",
       " 39,\n",
       " 42,\n",
       " 48,\n",
       " 51,\n",
       " 54,\n",
       " 57,\n",
       " 63,\n",
       " 66,\n",
       " 69,\n",
       " 72,\n",
       " 78,\n",
       " 81,\n",
       " 84,\n",
       " 87,\n",
       " 93,\n",
       " 96,\n",
       " 99]"
      ]
     },
     "execution_count": 27,
     "metadata": {},
     "output_type": "execute_result"
    }
   ],
   "source": [
    "#zadanie 24 - dla zakresu liczb range(100) zwróci listę wartości, które są podzielne przez 3 i niepodzielne przez 5.\n",
    "\n",
    "def zad24():\n",
    "    list=[]\n",
    "    for i in range(100):\n",
    "        if i % 3 == 0 and i % 5 != 0:\n",
    "            list.append(i)\n",
    "    return list\n",
    "zad24()"
   ]
  },
  {
   "cell_type": "code",
   "execution_count": null,
   "id": "1ce503bf",
   "metadata": {},
   "outputs": [],
   "source": []
  }
 ],
 "metadata": {
  "kernelspec": {
   "display_name": "Python 3.10.6 64-bit",
   "language": "python",
   "name": "python3"
  },
  "language_info": {
   "codemirror_mode": {
    "name": "ipython",
    "version": 3
   },
   "file_extension": ".py",
   "mimetype": "text/x-python",
   "name": "python",
   "nbconvert_exporter": "python",
   "pygments_lexer": "ipython3",
   "version": "3.10.6"
  },
  "vscode": {
   "interpreter": {
    "hash": "aee8b7b246df8f9039afb4144a1f6fd8d2ca17a180786b69acc140d282b71a49"
   }
  }
 },
 "nbformat": 4,
 "nbformat_minor": 5
}
