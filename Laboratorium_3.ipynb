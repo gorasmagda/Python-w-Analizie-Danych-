{
 "cells": [
  {
   "cell_type": "code",
   "execution_count": 1,
   "id": "3d3a9ada",
   "metadata": {
    "scrolled": true
   },
   "outputs": [
    {
     "ename": "NameError",
     "evalue": "name 'arr' is not defined",
     "output_type": "error",
     "traceback": [
      "\u001B[0;31m---------------------------------------------------------------------------\u001B[0m",
      "\u001B[0;31mNameError\u001B[0m                                 Traceback (most recent call last)",
      "\u001B[0;32m/var/folders/3f/8zmvqw292tn3xqty7hzkgv340000gn/T/ipykernel_13662/2136368439.py\u001B[0m in \u001B[0;36m<module>\u001B[0;34m\u001B[0m\n\u001B[1;32m      2\u001B[0m \u001B[0;32mimport\u001B[0m \u001B[0mnumpy\u001B[0m \u001B[0;32mas\u001B[0m \u001B[0mnp\u001B[0m\u001B[0;34m\u001B[0m\u001B[0;34m\u001B[0m\u001B[0m\n\u001B[1;32m      3\u001B[0m \u001B[0;32mimport\u001B[0m \u001B[0mmath\u001B[0m\u001B[0;34m\u001B[0m\u001B[0;34m\u001B[0m\u001B[0m\n\u001B[0;32m----> 4\u001B[0;31m \u001B[0mprint\u001B[0m\u001B[0;34m(\u001B[0m\u001B[0marr\u001B[0m\u001B[0;34m)\u001B[0m\u001B[0;34m\u001B[0m\u001B[0;34m\u001B[0m\u001B[0m\n\u001B[0m",
      "\u001B[0;31mNameError\u001B[0m: name 'arr' is not defined"
     ]
    }
   ],
   "source": [
    "import random as rd\n",
    "import numpy as np\n",
    "import math\n",
    "print(arr)"
   ]
  },
  {
   "cell_type": "markdown",
   "id": "31cf67e6",
   "metadata": {},
   "source": [
    "# Zadanie 1"
   ]
  },
  {
   "cell_type": "markdown",
   "id": "d37b44c9",
   "metadata": {},
   "source": [
    "Napisz funkcję, która sprawdzi czy w podanej macierzy występuję zadana wartość."
   ]
  },
  {
   "cell_type": "code",
   "execution_count": 3,
   "id": "51cc89bc",
   "metadata": {},
   "outputs": [],
   "source": [
    "def find_element(array,x):\n",
    "    return x in array\n",
    "arr = np.array([range(i,i+3) for i in [1,4,7]])"
   ]
  },
  {
   "cell_type": "code",
   "execution_count": 5,
   "id": "c395ca0b",
   "metadata": {},
   "outputs": [
    {
     "data": {
      "text/plain": "True"
     },
     "execution_count": 5,
     "metadata": {},
     "output_type": "execute_result"
    }
   ],
   "source": [
    "find_element(arr,5)"
   ]
  },
  {
   "cell_type": "code",
   "execution_count": 6,
   "id": "7c5c5b35",
   "metadata": {},
   "outputs": [
    {
     "data": {
      "text/plain": "False"
     },
     "execution_count": 6,
     "metadata": {},
     "output_type": "execute_result"
    }
   ],
   "source": [
    "find_element(arr,10)"
   ]
  },
  {
   "cell_type": "markdown",
   "id": "91bf14b3",
   "metadata": {},
   "source": [
    "# Zadanie 2"
   ]
  },
  {
   "cell_type": "markdown",
   "id": "61419f0d",
   "metadata": {},
   "source": [
    "Napisz funkcję, która zwróci średnią geometryczną wektora liczb (liczby sa dodatnie)."
   ]
  },
  {
   "cell_type": "code",
   "execution_count": 7,
   "id": "974437df",
   "metadata": {},
   "outputs": [
    {
     "data": {
      "text/plain": "2.2133638394006434"
     },
     "execution_count": 7,
     "metadata": {},
     "output_type": "execute_result"
    }
   ],
   "source": [
    "def geometric_mean(g):\n",
    "    x=np.prod(g)\n",
    "    x**=1/g.size\n",
    "    return x\n",
    "geometric_mean(np.array([1,2,3,4]))"
   ]
  },
  {
   "cell_type": "markdown",
   "id": "01cdc877",
   "metadata": {},
   "source": [
    "# Zadanie 3"
   ]
  },
  {
   "cell_type": "markdown",
   "id": "863c00e6",
   "metadata": {},
   "source": [
    "Napisz funkcję, która dla zadanych wektórów obliczy ich iloczyn skalarny.\n"
   ]
  },
  {
   "cell_type": "code",
   "execution_count": 8,
   "id": "24514fbf",
   "metadata": {},
   "outputs": [
    {
     "data": {
      "text/plain": "20"
     },
     "execution_count": 8,
     "metadata": {},
     "output_type": "execute_result"
    }
   ],
   "source": [
    "def scalar_product(x,y):\n",
    "    if len(x)==len(y):\n",
    "        return np.dot(x,y)\n",
    "    else: print(\"Wektory nie sa rownej dlugosci!\")\n",
    "scalar_product(np.array([1,2,3]), np.array([2,3,4]))"
   ]
  },
  {
   "cell_type": "markdown",
   "id": "ed957659",
   "metadata": {},
   "source": [
    "# Zadanie 4"
   ]
  },
  {
   "cell_type": "markdown",
   "id": "4c1f0ed6",
   "metadata": {},
   "source": [
    "Napisz funkcję, która wygeneruje macierz o zadanych rozmiarach z tą sama wartością liczbową ale bez użycia metody np.full().\n"
   ]
  },
  {
   "cell_type": "code",
   "execution_count": 11,
   "id": "15575e39",
   "metadata": {},
   "outputs": [
    {
     "data": {
      "text/plain": "array([[10, 10, 10, 10],\n       [10, 10, 10, 10]])"
     },
     "execution_count": 11,
     "metadata": {},
     "output_type": "execute_result"
    }
   ],
   "source": [
    "def create_array(shapes, value):\n",
    "    array = np.array(shapes[0]*shapes[1]*[value])\n",
    "    array = array.reshape(shapes)\n",
    "    return array\n",
    "create_array((7,8),10)\n",
    "\n",
    "def full(x,y,n):\n",
    "    return np.array([[n for i in range(y)]for j in range(x)])\n",
    "full(2,4,10)\n"
   ]
  },
  {
   "cell_type": "markdown",
   "id": "f83f4013",
   "metadata": {},
   "source": [
    "# Zadanie 5"
   ]
  },
  {
   "cell_type": "markdown",
   "id": "176240a5",
   "metadata": {},
   "source": [
    "Napisz funkcję, która wygeneruje macierz kwadratową określonego rozmiaru n o zerach na przekątnej i jedynkach na pozostałych pozycjach.\n"
   ]
  },
  {
   "cell_type": "code",
   "execution_count": 13,
   "id": "94cf8c37",
   "metadata": {},
   "outputs": [
    {
     "name": "stdout",
     "output_type": "stream",
     "text": [
      "0 1 1 1 \n",
      "1 0 1 1 \n",
      "1 1 0 1 \n",
      "1 1 1 0 \n"
     ]
    }
   ],
   "source": [
    "def reverse_eye(size):\n",
    "    for row in range(0,size):\n",
    "        for col in range(0,size):\n",
    "            if(row==col):\n",
    "                print(\"0\", end=\" \")\n",
    "            else: \n",
    "                print(\"1\", end=\" \")\n",
    "        print()\n",
    "reverse_eye(4)"
   ]
  },
  {
   "cell_type": "code",
   "execution_count": 14,
   "outputs": [
    {
     "data": {
      "text/plain": "array([[1, 0, 0, 0, 0],\n       [0, 1, 0, 0, 0],\n       [0, 0, 1, 0, 0],\n       [0, 0, 0, 1, 0],\n       [0, 0, 0, 0, 1]])"
     },
     "execution_count": 14,
     "metadata": {},
     "output_type": "execute_result"
    }
   ],
   "source": [
    "def fill(n):\n",
    "    matrix=np.array([[0 for i in range(n)]for j in range(n)])\n",
    "    np.fill_diagonal(matrix,1)\n",
    "    return matrix\n",
    "fill(5)"
   ],
   "metadata": {
    "collapsed": false
   }
  },
  {
   "cell_type": "markdown",
   "id": "f8a73983",
   "metadata": {},
   "source": [
    "# Zadanie 6"
   ]
  },
  {
   "cell_type": "markdown",
   "id": "dac9d714",
   "metadata": {},
   "source": [
    "Napisz funkcję, która zamieni wszystkie ujemne wartości w macierzy na 0.\n"
   ]
  },
  {
   "cell_type": "code",
   "execution_count": 12,
   "id": "c76cb930",
   "metadata": {},
   "outputs": [
    {
     "name": "stdout",
     "output_type": "stream",
     "text": [
      "[-1  2  3  4 -5  6  7  8 -9]\n",
      "(3, 3)\n"
     ]
    },
    {
     "data": {
      "text/plain": [
       "array([[1, 0],\n",
       "       [0, 9]])"
      ]
     },
     "execution_count": 12,
     "metadata": {},
     "output_type": "execute_result"
    }
   ],
   "source": [
    "narr = np.array([[-1,2,3],\n",
    "                [4,-5,6],\n",
    "                [7,8,-9]])\n",
    "print(narr.ravel())\n",
    "print(narr.shape)\n",
    "\n",
    "def negatives_to_zero(array):\n",
    "    shapes = array.shape \n",
    "    array = array.ravel()\n",
    "    for i in range(len(array)):\n",
    "        if array[i] < 0:\n",
    "            array[i] = 0\n",
    "    return array.reshape(shapes)\n",
    "\n",
    "negatives_to_zero(narr)\n",
    "\n",
    "\n",
    "\n",
    "def positive(m):\n",
    "    for i,j in np.ndenumerate(m):\n",
    "        if j<0:\n",
    "            m[i]=0\n",
    "    return m        \n",
    "        \n",
    "positive(np.array([[1,-3],[-5,9]])) \n",
    "    \n",
    "    \n",
    "    "
   ]
  },
  {
   "cell_type": "markdown",
   "id": "9cd74494",
   "metadata": {},
   "source": [
    "# Zadanie 7"
   ]
  },
  {
   "cell_type": "markdown",
   "id": "eddff63f",
   "metadata": {},
   "source": [
    "Napisz funkcję, która zwróci n największych wartości z zadanej macierzy.\n"
   ]
  },
  {
   "cell_type": "code",
   "execution_count": 19,
   "id": "dc555f81",
   "metadata": {},
   "outputs": [
    {
     "name": "stdout",
     "output_type": "stream",
     "text": [
      "Sorrted array:  [1 2 3 4 5 6 7 8 9]\n",
      "2 larges value:  [8 9]\n",
      "[10  9]\n"
     ]
    }
   ],
   "source": [
    "def largest_values(array,n):\n",
    "    array = array.ravel()\n",
    "    sorted_index_array = np.argsort(array)\n",
    "    sorted_array = array[sorted_index_array]\n",
    "    print(\"Sorrted array: \", sorted_array)\n",
    "    result = sorted_array[-n : ]\n",
    "    print(\"{} larges value: \".format(n), result)\n",
    "largest_values(arr,2)\n",
    "\n",
    "def n_max(m,n):\n",
    "    m=m.flatten()\n",
    "    return m[np.argsort(m)[::-1][:n]]\n",
    "print(n_max(np.array([[1,2,6,7],[10,8,9,3]]),2))\n",
    "\n",
    "\n"
   ]
  },
  {
   "cell_type": "markdown",
   "id": "01997264",
   "metadata": {},
   "source": [
    "# Zadanie 8"
   ]
  },
  {
   "cell_type": "markdown",
   "id": "b42f1a61",
   "metadata": {},
   "source": [
    "Napisz funkcję, która zwróci najczęściej powtarzający się element macierzy.\n"
   ]
  },
  {
   "cell_type": "code",
   "execution_count": 14,
   "id": "40ba049d",
   "metadata": {},
   "outputs": [
    {
     "name": "stdout",
     "output_type": "stream",
     "text": [
      "Najczęściej powtarzająca się wartość macierzy:  3\n"
     ]
    }
   ],
   "source": [
    "earr = np.array([[1,2,3],\n",
    "                 [1,1,1],\n",
    "                 [3,3,4],\n",
    "                 [3,3,3]]\n",
    "               )\n",
    "def occurs(array):\n",
    "    array = array.flatten()\n",
    "    return print(\"Najczęściej powtarzająca się wartość macierzy: \",np.argmax(np.bincount(array)))\n",
    "\n",
    "occurs(earr)   "
   ]
  },
  {
   "cell_type": "markdown",
   "id": "7b4d9614",
   "metadata": {},
   "source": [
    "# Zadanie 9 "
   ]
  },
  {
   "cell_type": "markdown",
   "id": "de93d5ba",
   "metadata": {},
   "source": [
    "Napisz funkcję, która dla zadanej macierzy 2d zwróci wiersze z unikalnymi (niepowtarzającymi się) wartośćiami."
   ]
  },
  {
   "cell_type": "code",
   "execution_count": 17,
   "id": "06eb6d50",
   "metadata": {},
   "outputs": [
    {
     "data": {
      "text/plain": [
       "array([1, 2, 3, 4])"
      ]
     },
     "execution_count": 17,
     "metadata": {},
     "output_type": "execute_result"
    }
   ],
   "source": [
    "def unique(array):\n",
    "    return np.unique(array)\n",
    "unique(earr)"
   ]
  },
  {
   "cell_type": "markdown",
   "id": "cbdab22c",
   "metadata": {},
   "source": [
    "# Zadanie 10"
   ]
  },
  {
   "cell_type": "markdown",
   "id": "931878b0",
   "metadata": {},
   "source": [
    "Napisz funkcję, która obliczy odległość (np. euklidesową) dwóch punktów  P1  i  P2  w  Rn.\n"
   ]
  },
  {
   "cell_type": "code",
   "execution_count": 22,
   "id": "4b99d86e",
   "metadata": {},
   "outputs": [
    {
     "name": "stdout",
     "output_type": "stream",
     "text": [
      "2.0\n",
      "2.0\n"
     ]
    }
   ],
   "source": [
    "def euclidean_distance(a,b):\n",
    "    return np.linalg.norm(a-b)\n",
    "print(euclidean_distance(np.array([1,2]),np.array([3,2])))\n",
    "\n",
    "def euclidean_distance2(a,b):\n",
    "    return np.sum(np.abs(a-b)**2)**1/2\n",
    "print(euclidean_distance2(np.array([1,2]),np.array([3,2])))\n"
   ]
  },
  {
   "cell_type": "markdown",
   "id": "7ced503e",
   "metadata": {},
   "source": [
    "# Zadanie 11\n",
    "Napisz funkcję, która sprawdzi czy podana macierz X o rozmiarze 2x2 jest rozwiązaniem równania macierzowego  aX^2+bX+c=0 , gdzie  a,b,c  to zadane macierze."
   ]
  },
  {
   "cell_type": "code",
   "execution_count": 20,
   "id": "bdfdf56e",
   "metadata": {},
   "outputs": [
    {
     "data": {
      "text/plain": "'Macierz X jest rozwiązaniem'"
     },
     "execution_count": 20,
     "metadata": {},
     "output_type": "execute_result"
    }
   ],
   "source": [
    "def solve(a,b,c,X):\n",
    "    eq=a@np.linalg.matrix_power(X,2)+b@X+c\n",
    "    if np.array_equal(eq,np.zeros((2,2))):\n",
    "        return \"Macierz X jest rozwiązaniem\"\n",
    "    else:\n",
    "        return \"Macierz X nie jest rozwiązaniem\"\n",
    "    \n",
    "a = np.array([[1,1],[1,1]])\n",
    "b = np.array([[5,5],[5,5]])\n",
    "c = np.array([[6,6],[6,6]])\n",
    "X = np.array([[-1,-1],[-1,-1]])\n",
    "\n",
    "\n",
    "solve(a,b,c,X)"
   ]
  },
  {
   "cell_type": "markdown",
   "id": "c8f0306d",
   "metadata": {},
   "source": [
    "# Zadanie 12 \n",
    "Napisz funkcję, która obliczy n-tą liczbę Fibonacciego wykorzystując potęgowanie macierzy [[1,1],[1,0]] (https://pl.wikipedia.org/wiki/Ci%C4%85g_Fibonacciego#Macierze_liczb_Fibonacciego)."
   ]
  },
  {
   "cell_type": "code",
   "execution_count": 21,
   "id": "27f25215",
   "metadata": {},
   "outputs": [
    {
     "data": {
      "text/plain": "'6 liczba Fibonnaciego to 8'"
     },
     "execution_count": 21,
     "metadata": {},
     "output_type": "execute_result"
    }
   ],
   "source": [
    "def Fibonacci(n):\n",
    "    f = np.array([[1,1],[1,0]])\n",
    "    f = np.linalg.matrix_power(f,n)\n",
    "    return str(n)+\" liczba Fibonnaciego to \"+str(f[0,1])\n",
    "Fibonacci(6)"
   ]
  },
  {
   "cell_type": "markdown",
   "id": "7af59897",
   "metadata": {},
   "source": [
    "# Zadanie 13\n",
    "Napisz funkcję, która obliczy n-tą liczbę Fibonacciego wykorzystując wzór Bineta (https://pl.wikipedia.org/wiki/Ci%C4%85g_Fibonacciego#Wz%C3%B3r_Bineta)."
   ]
  },
  {
   "cell_type": "markdown",
   "id": "6a1a5350",
   "metadata": {},
   "source": [
    "# Zadanie 14\n",
    "Napisz funkcję, która wygeneruje macierz o losowych elementach (liczby całkowite z zadanego zakresu) o zadanej z góry wartości śladu macierzy (ang. trace)."
   ]
  }
 ],
 "metadata": {
  "kernelspec": {
   "display_name": "Python 3 (ipykernel)",
   "language": "python",
   "name": "python3"
  },
  "language_info": {
   "codemirror_mode": {
    "name": "ipython",
    "version": 3
   },
   "file_extension": ".py",
   "mimetype": "text/x-python",
   "name": "python",
   "nbconvert_exporter": "python",
   "pygments_lexer": "ipython3",
   "version": "3.9.13"
  }
 },
 "nbformat": 4,
 "nbformat_minor": 5
}
