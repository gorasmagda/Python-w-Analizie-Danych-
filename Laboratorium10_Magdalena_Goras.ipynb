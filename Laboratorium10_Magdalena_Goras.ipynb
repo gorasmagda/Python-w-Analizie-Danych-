{
 "cells": [
  {
   "cell_type": "markdown",
   "source": [
    "# Python w analizie danych - regresja liniowa: statsmodels i seaborn\n",
    "\n"
   ],
   "metadata": {
    "collapsed": false
   }
  },
  {
   "cell_type": "markdown",
   "source": [
    "### Zadanie 1\n",
    "Napisz funkcję, która obliczy współczynnik korelacji liniowej Pearsona. Nie używaj żadnych gotowych funkcji."
   ],
   "metadata": {
    "collapsed": false
   }
  },
  {
   "cell_type": "code",
   "execution_count": 4,
   "outputs": [
    {
     "data": {
      "text/plain": "   X   Y\n0  1   4\n1  2   6\n2  3   9\n3  4  11\n4  5  18",
      "text/html": "<div>\n<style scoped>\n    .dataframe tbody tr th:only-of-type {\n        vertical-align: middle;\n    }\n\n    .dataframe tbody tr th {\n        vertical-align: top;\n    }\n\n    .dataframe thead th {\n        text-align: right;\n    }\n</style>\n<table border=\"1\" class=\"dataframe\">\n  <thead>\n    <tr style=\"text-align: right;\">\n      <th></th>\n      <th>X</th>\n      <th>Y</th>\n    </tr>\n  </thead>\n  <tbody>\n    <tr>\n      <th>0</th>\n      <td>1</td>\n      <td>4</td>\n    </tr>\n    <tr>\n      <th>1</th>\n      <td>2</td>\n      <td>6</td>\n    </tr>\n    <tr>\n      <th>2</th>\n      <td>3</td>\n      <td>9</td>\n    </tr>\n    <tr>\n      <th>3</th>\n      <td>4</td>\n      <td>11</td>\n    </tr>\n    <tr>\n      <th>4</th>\n      <td>5</td>\n      <td>18</td>\n    </tr>\n  </tbody>\n</table>\n</div>"
     },
     "execution_count": 4,
     "metadata": {},
     "output_type": "execute_result"
    }
   ],
   "source": [
    "%matplotlib inline\n",
    "import pandas as pd\n",
    "import matplotlib.pyplot as plt\n",
    "\n",
    "df = pd.DataFrame()\n",
    "df['X'] = [1, 2, 3, 4, 5]\n",
    "df['Y'] = [4, 6, 9, 11, 18]\n",
    "df"
   ],
   "metadata": {
    "collapsed": false
   }
  },
  {
   "cell_type": "code",
   "execution_count": 5,
   "outputs": [
    {
     "data": {
      "text/plain": "<Figure size 640x480 with 1 Axes>",
      "image/png": "[encoded data removed]"
     },
     "metadata": {},
     "output_type": "display_data"
    }
   ],
   "source": [
    "plt.scatter(df['X'], df['Y'], label='Wartości Niezależne')\n",
    "plt.xlabel('Wartości X')\n",
    "plt.ylabel('Wartości Y')\n",
    "plt.legend()\n",
    "plt.show()"
   ],
   "metadata": {
    "collapsed": false
   }
  },
  {
   "cell_type": "code",
   "execution_count": 6,
   "outputs": [
    {
     "name": "stdout",
     "output_type": "stream",
     "text": [
      "Mx:  3.0\n",
      "My:  9.6\n"
     ]
    }
   ],
   "source": [
    "def srednia(zbior):\n",
    "    return float(zbior.sum()) / len(zbior)\n",
    "\n",
    "Mx = srednia(df['X'])\n",
    "My = srednia(df['Y'])\n",
    "\n",
    "print(\"Mx: \", Mx)\n",
    "print(\"My: \", My)"
   ],
   "metadata": {
    "collapsed": false
   }
  },
  {
   "cell_type": "code",
   "execution_count": 7,
   "outputs": [
    {
     "name": "stdout",
     "output_type": "stream",
     "text": [
      "Sx:  1.5811388300841898\n",
      "Sy:  5.412947441089743\n"
     ]
    }
   ],
   "source": [
    "from math import sqrt\n",
    "\n",
    "def odchylenie(zbior, srednia):\n",
    "    licznik = 0\n",
    "    for elem in zbior:\n",
    "        licznik += (elem - srednia) * (elem - srednia)\n",
    "    return sqrt(licznik / (len(zbior) - 1))\n",
    "\n",
    "Sx = odchylenie(df['X'], Mx)\n",
    "Sy = odchylenie(df['Y'], My)\n",
    "\n",
    "print(\"Sx: \", Sx)\n",
    "print(\"Sy: \", Sy)"
   ],
   "metadata": {
    "collapsed": false
   }
  },
  {
   "cell_type": "markdown",
   "source": [
    "1. Iloczyn każdych dwóch odpowiadających elementów zbioru X i Y (xy)\n",
    "2. Kwadrat każdego elementu ze zbioru X (x2)\n",
    "3. Kwadrat każdego elementu ze zbioru Y (y2)\n",
    "4. Sumy wszystkich elementów i wyżej wymienionych wartości dla każdego zbioru (Σ)\n",
    "5. Ilość elementów w zbiorach (n)"
   ],
   "metadata": {
    "collapsed": false
   }
  },
  {
   "cell_type": "code",
   "execution_count": 8,
   "outputs": [
    {
     "name": "stdout",
     "output_type": "stream",
     "text": [
      "n =  5\n",
      "\n",
      "    X   Y   y2   xy  x2\n",
      "0   1   4   16    4   1\n",
      "1   2   6   36   12   4\n",
      "2   3   9   81   27   9\n",
      "3   4  11  121   44  16\n",
      "4   5  18  324   90  25\n",
      "Σ  15  48  578  177  55\n"
     ]
    }
   ],
   "source": [
    "n = len(df['X'])\n",
    "vr = pd.DataFrame(df[:])\n",
    "vr['y2'] = df['Y'] * df['Y']\n",
    "vr['xy'] = df['X'] * df['Y']\n",
    "vr['x2'] = df['X'] * df['X']\n",
    "vr['y2'] = df['Y'] * df['Y']\n",
    "vr.loc['Σ'] = vr.sum()\n",
    "\n",
    "print(\"n = \", n)\n",
    "print()\n",
    "print(vr)"
   ],
   "metadata": {
    "collapsed": false
   }
  },
  {
   "cell_type": "code",
   "execution_count": 16,
   "outputs": [
    {
     "name": "stdout",
     "output_type": "stream",
     "text": [
      "r =  0.963940292431027\n"
     ]
    }
   ],
   "source": [
    "def wsp_korelacji_pearsona(n, ΣX, ΣY, Σxy, Σx2, Σy2):\n",
    "    return ( (n * Σxy - ΣX * ΣY) /\n",
    "             (sqrt((n * Σx2 - ΣX**2) * (n * Σy2 - ΣY**2))) )\n",
    "\n",
    "r = wsp_korelacji_pearsona(n, vr['X']['Σ'], vr['Y']['Σ'], vr['xy']['Σ'], vr['x2']['Σ'], vr['y2']['Σ'])\n",
    "print(\"r = \", r)"
   ],
   "metadata": {
    "collapsed": false
   }
  },
  {
   "cell_type": "markdown",
   "source": [
    "### Zadanie 2\n",
    "Napisz funkcję, która znajdzie współczynniki prostej regresji."
   ],
   "metadata": {
    "collapsed": false
   }
  },
  {
   "cell_type": "markdown",
   "source": [
    "### Zadanie 3\n",
    "Napisz funkcję, która wyrysuje zależność  𝑥 i  𝑦\n",
    "  z kwartetu Anscombe’a ze strony [https://pl.wikipedia.org/wiki/Kwartet_Anscombe%E2%80%99a](https://pl.wikipedia.org/wiki/Kwartet_Anscombe%E2%80%99a])."
   ],
   "metadata": {
    "collapsed": false
   }
  },
  {
   "cell_type": "markdown",
   "source": [
    "### Zadanie 4\n",
    "Sprawdź współczynnik korelacji Pearsona.\n"
   ],
   "metadata": {
    "collapsed": false
   }
  },
  {
   "cell_type": "markdown",
   "source": [
    "### Zadanie 5\n",
    "Do danych z punktu 3 zastosuj bibliotekę statsmodels i seaborn w celu uzyskania modelu prostej regresji i odpowiednich wykresów."
   ],
   "metadata": {
    "collapsed": false
   }
  },
  {
   "cell_type": "code",
   "execution_count": null,
   "outputs": [],
   "source": [],
   "metadata": {
    "collapsed": false
   }
  }
 ],
 "metadata": {
  "kernelspec": {
   "display_name": "Python 3",
   "language": "python",
   "name": "python3"
  },
  "language_info": {
   "codemirror_mode": {
    "name": "ipython",
    "version": 2
   },
   "file_extension": ".py",
   "mimetype": "text/x-python",
   "name": "python",
   "nbconvert_exporter": "python",
   "pygments_lexer": "ipython2",
   "version": "2.7.6"
  }
 },
 "nbformat": 4,
 "nbformat_minor": 0
}
